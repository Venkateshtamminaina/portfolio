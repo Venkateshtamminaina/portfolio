{
 "cells": [
  {
   "cell_type": "markdown",
   "id": "d4f468be",
   "metadata": {},
   "source": [
    "# <span style='color:#2916F5'> Importaing Libraries </span>"
   ]
  },
  {
   "cell_type": "code",
   "execution_count": 2,
   "id": "bdb6a44e",
   "metadata": {},
   "outputs": [],
   "source": [
    "import warnings\n",
    "warnings.filterwarnings(\"ignore\")\n",
    "import numpy as np \n",
    "import pandas as pd\n",
    "import os\n",
    "import matplotlib.pyplot as plt\n",
    "import seaborn as sns\n",
    "import plotly.express as px\n",
    "\n",
    "from sklearn.linear_model import LogisticRegression\n",
    "from sklearn.ensemble import AdaBoostClassifier\n",
    "from sklearn.neural_network import MLPClassifier\n",
    "from sklearn.tree import DecisionTreeClassifier\n",
    "from sklearn.svm import LinearSVC\n",
    "from sklearn.pipeline import make_pipeline\n",
    "from sklearn.preprocessing import StandardScaler\n",
    "\n",
    "from sklearn.utils import resample\n",
    "from sklearn.utils import shuffle\n",
    "from sklearn.model_selection import train_test_split\n",
    "from sklearn.metrics import precision_score, recall_score, f1_score, classification_report,accuracy_score"
   ]
  },
  {
   "cell_type": "markdown",
   "id": "4c553e62",
   "metadata": {},
   "source": [
    "# <span style='color:#2916F5'> Data Reading </span>"
   ]
  },
  {
   "cell_type": "markdown",
   "id": "d9712f22",
   "metadata": {},
   "source": [
    "## <span style='color:#2916F5'>Loading Data </span>"
   ]
  },
  {
   "cell_type": "code",
   "execution_count": 3,
   "id": "3126e1f9",
   "metadata": {},
   "outputs": [],
   "source": [
    "##pip install plotly"
   ]
  },
  {
   "cell_type": "code",
   "execution_count": 4,
   "id": "6edcf9d2",
   "metadata": {},
   "outputs": [
    {
     "data": {
      "text/html": [
       "<div>\n",
       "<style scoped>\n",
       "    .dataframe tbody tr th:only-of-type {\n",
       "        vertical-align: middle;\n",
       "    }\n",
       "\n",
       "    .dataframe tbody tr th {\n",
       "        vertical-align: top;\n",
       "    }\n",
       "\n",
       "    .dataframe thead th {\n",
       "        text-align: right;\n",
       "    }\n",
       "</style>\n",
       "<table border=\"1\" class=\"dataframe\">\n",
       "  <thead>\n",
       "    <tr style=\"text-align: right;\">\n",
       "      <th></th>\n",
       "      <th>Pregnancies</th>\n",
       "      <th>Glucose</th>\n",
       "      <th>BloodPressure</th>\n",
       "      <th>SkinThickness</th>\n",
       "      <th>Insulin</th>\n",
       "      <th>BMI</th>\n",
       "      <th>DiabetesPedigreeFunction</th>\n",
       "      <th>Age</th>\n",
       "      <th>Outcome</th>\n",
       "    </tr>\n",
       "  </thead>\n",
       "  <tbody>\n",
       "    <tr>\n",
       "      <th>0</th>\n",
       "      <td>6</td>\n",
       "      <td>148</td>\n",
       "      <td>72</td>\n",
       "      <td>35</td>\n",
       "      <td>0</td>\n",
       "      <td>33.6</td>\n",
       "      <td>0.627</td>\n",
       "      <td>50</td>\n",
       "      <td>1</td>\n",
       "    </tr>\n",
       "    <tr>\n",
       "      <th>1</th>\n",
       "      <td>1</td>\n",
       "      <td>85</td>\n",
       "      <td>66</td>\n",
       "      <td>29</td>\n",
       "      <td>0</td>\n",
       "      <td>26.6</td>\n",
       "      <td>0.351</td>\n",
       "      <td>31</td>\n",
       "      <td>0</td>\n",
       "    </tr>\n",
       "    <tr>\n",
       "      <th>2</th>\n",
       "      <td>8</td>\n",
       "      <td>183</td>\n",
       "      <td>64</td>\n",
       "      <td>0</td>\n",
       "      <td>0</td>\n",
       "      <td>23.3</td>\n",
       "      <td>0.672</td>\n",
       "      <td>32</td>\n",
       "      <td>1</td>\n",
       "    </tr>\n",
       "    <tr>\n",
       "      <th>3</th>\n",
       "      <td>1</td>\n",
       "      <td>89</td>\n",
       "      <td>66</td>\n",
       "      <td>23</td>\n",
       "      <td>94</td>\n",
       "      <td>28.1</td>\n",
       "      <td>0.167</td>\n",
       "      <td>21</td>\n",
       "      <td>0</td>\n",
       "    </tr>\n",
       "    <tr>\n",
       "      <th>4</th>\n",
       "      <td>0</td>\n",
       "      <td>137</td>\n",
       "      <td>40</td>\n",
       "      <td>35</td>\n",
       "      <td>168</td>\n",
       "      <td>43.1</td>\n",
       "      <td>2.288</td>\n",
       "      <td>33</td>\n",
       "      <td>1</td>\n",
       "    </tr>\n",
       "  </tbody>\n",
       "</table>\n",
       "</div>"
      ],
      "text/plain": [
       "   Pregnancies  Glucose  BloodPressure  SkinThickness  Insulin   BMI  \\\n",
       "0            6      148             72             35        0  33.6   \n",
       "1            1       85             66             29        0  26.6   \n",
       "2            8      183             64              0        0  23.3   \n",
       "3            1       89             66             23       94  28.1   \n",
       "4            0      137             40             35      168  43.1   \n",
       "\n",
       "   DiabetesPedigreeFunction  Age  Outcome  \n",
       "0                     0.627   50        1  \n",
       "1                     0.351   31        0  \n",
       "2                     0.672   32        1  \n",
       "3                     0.167   21        0  \n",
       "4                     2.288   33        1  "
      ]
     },
     "execution_count": 4,
     "metadata": {},
     "output_type": "execute_result"
    }
   ],
   "source": [
    "diab=pd.read_csv(\"diabetes.csv\")\n",
    "diab.head()"
   ]
  },
  {
   "cell_type": "markdown",
   "id": "7f4dcfd7",
   "metadata": {},
   "source": [
    "## <span style='color:#2916F5'>Formatting Target label </span>"
   ]
  },
  {
   "cell_type": "code",
   "execution_count": 5,
   "id": "8a8afae6",
   "metadata": {},
   "outputs": [
    {
     "data": {
      "text/html": [
       "<div>\n",
       "<style scoped>\n",
       "    .dataframe tbody tr th:only-of-type {\n",
       "        vertical-align: middle;\n",
       "    }\n",
       "\n",
       "    .dataframe tbody tr th {\n",
       "        vertical-align: top;\n",
       "    }\n",
       "\n",
       "    .dataframe thead th {\n",
       "        text-align: right;\n",
       "    }\n",
       "</style>\n",
       "<table border=\"1\" class=\"dataframe\">\n",
       "  <thead>\n",
       "    <tr style=\"text-align: right;\">\n",
       "      <th></th>\n",
       "      <th>Pregnancies</th>\n",
       "      <th>Glucose</th>\n",
       "      <th>BloodPressure</th>\n",
       "      <th>SkinThickness</th>\n",
       "      <th>Insulin</th>\n",
       "      <th>BMI</th>\n",
       "      <th>DiabetesPedigreeFunction</th>\n",
       "      <th>Age</th>\n",
       "      <th>Outcome</th>\n",
       "    </tr>\n",
       "  </thead>\n",
       "  <tbody>\n",
       "    <tr>\n",
       "      <th>0</th>\n",
       "      <td>6</td>\n",
       "      <td>148</td>\n",
       "      <td>72</td>\n",
       "      <td>35</td>\n",
       "      <td>0</td>\n",
       "      <td>33.6</td>\n",
       "      <td>0.627</td>\n",
       "      <td>50</td>\n",
       "      <td>Diabetic</td>\n",
       "    </tr>\n",
       "    <tr>\n",
       "      <th>1</th>\n",
       "      <td>1</td>\n",
       "      <td>85</td>\n",
       "      <td>66</td>\n",
       "      <td>29</td>\n",
       "      <td>0</td>\n",
       "      <td>26.6</td>\n",
       "      <td>0.351</td>\n",
       "      <td>31</td>\n",
       "      <td>Non-Diabetic</td>\n",
       "    </tr>\n",
       "    <tr>\n",
       "      <th>2</th>\n",
       "      <td>8</td>\n",
       "      <td>183</td>\n",
       "      <td>64</td>\n",
       "      <td>0</td>\n",
       "      <td>0</td>\n",
       "      <td>23.3</td>\n",
       "      <td>0.672</td>\n",
       "      <td>32</td>\n",
       "      <td>Diabetic</td>\n",
       "    </tr>\n",
       "    <tr>\n",
       "      <th>3</th>\n",
       "      <td>1</td>\n",
       "      <td>89</td>\n",
       "      <td>66</td>\n",
       "      <td>23</td>\n",
       "      <td>94</td>\n",
       "      <td>28.1</td>\n",
       "      <td>0.167</td>\n",
       "      <td>21</td>\n",
       "      <td>Non-Diabetic</td>\n",
       "    </tr>\n",
       "    <tr>\n",
       "      <th>4</th>\n",
       "      <td>0</td>\n",
       "      <td>137</td>\n",
       "      <td>40</td>\n",
       "      <td>35</td>\n",
       "      <td>168</td>\n",
       "      <td>43.1</td>\n",
       "      <td>2.288</td>\n",
       "      <td>33</td>\n",
       "      <td>Diabetic</td>\n",
       "    </tr>\n",
       "  </tbody>\n",
       "</table>\n",
       "</div>"
      ],
      "text/plain": [
       "   Pregnancies  Glucose  BloodPressure  SkinThickness  Insulin   BMI  \\\n",
       "0            6      148             72             35        0  33.6   \n",
       "1            1       85             66             29        0  26.6   \n",
       "2            8      183             64              0        0  23.3   \n",
       "3            1       89             66             23       94  28.1   \n",
       "4            0      137             40             35      168  43.1   \n",
       "\n",
       "   DiabetesPedigreeFunction  Age       Outcome  \n",
       "0                     0.627   50      Diabetic  \n",
       "1                     0.351   31  Non-Diabetic  \n",
       "2                     0.672   32      Diabetic  \n",
       "3                     0.167   21  Non-Diabetic  \n",
       "4                     2.288   33      Diabetic  "
      ]
     },
     "execution_count": 5,
     "metadata": {},
     "output_type": "execute_result"
    }
   ],
   "source": [
    "diab.Outcome=diab.Outcome.replace(diab.Outcome.unique(),[\"Diabetic\",\"Non-Diabetic\"])\n",
    "diab.head()"
   ]
  },
  {
   "cell_type": "markdown",
   "id": "1b1c280b",
   "metadata": {},
   "source": [
    "## <span style='color:#2916F5'>Data Information </span>"
   ]
  },
  {
   "cell_type": "code",
   "execution_count": 6,
   "id": "eb242574",
   "metadata": {},
   "outputs": [
    {
     "name": "stdout",
     "output_type": "stream",
     "text": [
      "<class 'pandas.core.frame.DataFrame'>\n",
      "RangeIndex: 768 entries, 0 to 767\n",
      "Data columns (total 9 columns):\n",
      " #   Column                    Non-Null Count  Dtype  \n",
      "---  ------                    --------------  -----  \n",
      " 0   Pregnancies               768 non-null    int64  \n",
      " 1   Glucose                   768 non-null    int64  \n",
      " 2   BloodPressure             768 non-null    int64  \n",
      " 3   SkinThickness             768 non-null    int64  \n",
      " 4   Insulin                   768 non-null    int64  \n",
      " 5   BMI                       768 non-null    float64\n",
      " 6   DiabetesPedigreeFunction  768 non-null    float64\n",
      " 7   Age                       768 non-null    int64  \n",
      " 8   Outcome                   768 non-null    object \n",
      "dtypes: float64(2), int64(6), object(1)\n",
      "memory usage: 54.1+ KB\n"
     ]
    }
   ],
   "source": [
    "diab.info()"
   ]
  },
  {
   "cell_type": "code",
   "execution_count": 7,
   "id": "4c0b29df",
   "metadata": {},
   "outputs": [
    {
     "data": {
      "text/plain": [
       "Non-Diabetic    500\n",
       "Diabetic        268\n",
       "Name: Outcome, dtype: int64"
      ]
     },
     "execution_count": 7,
     "metadata": {},
     "output_type": "execute_result"
    }
   ],
   "source": [
    "diab.Outcome.value_counts()"
   ]
  },
  {
   "cell_type": "markdown",
   "id": "894323f8",
   "metadata": {},
   "source": [
    "## <span style='color:#2916F5'>Determining Missing Values</span>"
   ]
  },
  {
   "cell_type": "code",
   "execution_count": 8,
   "id": "16c482e3",
   "metadata": {},
   "outputs": [
    {
     "data": {
      "text/plain": [
       "Pregnancies                 0\n",
       "Glucose                     0\n",
       "BloodPressure               0\n",
       "SkinThickness               0\n",
       "Insulin                     0\n",
       "BMI                         0\n",
       "DiabetesPedigreeFunction    0\n",
       "Age                         0\n",
       "Outcome                     0\n",
       "dtype: int64"
      ]
     },
     "execution_count": 8,
     "metadata": {},
     "output_type": "execute_result"
    }
   ],
   "source": [
    "diab.isna().sum()"
   ]
  },
  {
   "cell_type": "markdown",
   "id": "c6e4d37c",
   "metadata": {},
   "source": [
    "# <span style='color:#2916F5'> Data Analysis and Visualization </span>"
   ]
  },
  {
   "cell_type": "code",
   "execution_count": 9,
   "id": "d0d58edd",
   "metadata": {},
   "outputs": [],
   "source": [
    "txtcol=\"#046307\"\n",
    "tcol=[\"#228B22\",\"#2916F5\"]"
   ]
  },
  {
   "cell_type": "markdown",
   "id": "6c78a785",
   "metadata": {},
   "source": [
    "## <span style='color:#2916F5'>Function to Create Chart</span>"
   ]
  },
  {
   "cell_type": "code",
   "execution_count": 10,
   "id": "4e042b18",
   "metadata": {},
   "outputs": [],
   "source": [
    "def create_chart(df,v1,v2,ctp):\n",
    "    pd.crosstab(df[v1],df[v2]).plot(kind=ctp,figsize=(9,4),color=tcol)\n",
    "    plt.title('Posibility of Diabetes by {}'.format(v1), fontsize=15,color=txtcol)\n",
    "    plt.xlabel('{}'.format(v1), fontsize=12,color=txtcol)\n",
    "    plt.ylabel('Count', fontsize=12,color=txtcol)\n",
    "    plt.grid()\n",
    "    plt.show()"
   ]
  },
  {
   "cell_type": "markdown",
   "id": "d327e1ba",
   "metadata": {},
   "source": [
    "## <span style='color:#2916F5'>Function to Create Bar Chart</span>"
   ]
  },
  {
   "cell_type": "code",
   "execution_count": 11,
   "id": "6ffc9d84",
   "metadata": {},
   "outputs": [],
   "source": [
    "def create_bar(df1,df2,v1):\n",
    "    avg1=df1[v1].mean()\n",
    "    avg2=df2[v1].mean()\n",
    "    cat=[\"Diabetic\",\"Non-Diabetic\"]\n",
    "    val=[avg1,avg2]\n",
    "    plt.figure(figsize=(6,4))\n",
    "    plt.title(\"Average {} of Diabetic and Non-Diabetic People\".format(v1),fontsize=18,color=txtcol)\n",
    "    plt.xlabel(\"Type\",fontsize=18,color=txtcol)\n",
    "    plt.ylabel(\"Average {}\".format(v1),fontsize=18,color=txtcol)\n",
    "    plt.bar(cat,val,color=tcol)\n",
    "    plt.grid()\n",
    "    plt.show()"
   ]
  },
  {
   "cell_type": "code",
   "execution_count": 13,
   "id": "7b5c2028",
   "metadata": {},
   "outputs": [
    {
     "data": {
      "image/png": "[encoded data removed]",
      "text/plain": [
       "<Figure size 648x288 with 1 Axes>"
      ]
     },
     "metadata": {
      "needs_background": "light"
     },
     "output_type": "display_data"
    }
   ],
   "source": [
    "create_chart(diab,\"Age\",\"Outcome\",\"line\")\n",
    "#Diabetic attacks are high between 40-50years age"
   ]
  },
  {
   "cell_type": "code",
   "execution_count": 14,
   "id": "92e726b8",
   "metadata": {},
   "outputs": [
    {
     "data": {
      "image/png": "[encoded data removed]",
      "text/plain": [
       "<Figure size 648x288 with 1 Axes>"
      ]
     },
     "metadata": {
      "needs_background": "light"
     },
     "output_type": "display_data"
    }
   ],
   "source": [
    "create_chart(diab,\"Pregnancies\",\"Outcome\",\"bar\")"
   ]
  },
  {
   "cell_type": "code",
   "execution_count": 15,
   "id": "d399dc6b",
   "metadata": {},
   "outputs": [
    {
     "data": {
      "image/png": "[encoded data removed]",
      "text/plain": [
       "<Figure size 648x288 with 1 Axes>"
      ]
     },
     "metadata": {
      "needs_background": "light"
     },
     "output_type": "display_data"
    }
   ],
   "source": [
    "create_chart(diab,\"Glucose\",\"Outcome\",\"area\")\n",
    "#maximum diabetic attacks are between 120-150"
   ]
  },
  {
   "cell_type": "code",
   "execution_count": 16,
   "id": "4076db7f",
   "metadata": {},
   "outputs": [
    {
     "data": {
      "image/png": "[encoded data removed]",
      "text/plain": [
       "<Figure size 648x288 with 1 Axes>"
      ]
     },
     "metadata": {
      "needs_background": "light"
     },
     "output_type": "display_data"
    }
   ],
   "source": [
    "create_chart(diab,\"BMI\",\"Outcome\",\"area\")\n",
    "#maximum diabetic attacks are between 30-50"
   ]
  },
  {
   "cell_type": "code",
   "execution_count": null,
   "id": "4fea9528",
   "metadata": {},
   "outputs": [],
   "source": [
    "dbp=diab[diab['Outcome']==\"Diabetic\"]\n",
    "ndbp=diab[diab['Outcome']==\"Non-Diabetic\"]"
   ]
  },
  {
   "cell_type": "code",
   "execution_count": null,
   "id": "030d27f4",
   "metadata": {},
   "outputs": [],
   "source": [
    "create_bar(dbp,ndbp,\"Age\")\n",
    "#average age for diabetic is 37"
   ]
  },
  {
   "cell_type": "code",
   "execution_count": null,
   "id": "3092b9fc",
   "metadata": {},
   "outputs": [],
   "source": [
    "create_bar(dbp,ndbp,\"Glucose\")\n",
    "#average glucose for dbp is 140 and ndbp is 110"
   ]
  },
  {
   "cell_type": "code",
   "execution_count": null,
   "id": "1dcceeb0",
   "metadata": {},
   "outputs": [],
   "source": [
    "create_bar(dbp,ndbp,\"BMI\")\n",
    "#average BMI for dbp is 35 and ndbp is 30"
   ]
  },
  {
   "cell_type": "code",
   "execution_count": null,
   "id": "2ecc9f02",
   "metadata": {},
   "outputs": [],
   "source": [
    "create_bar(dbp,ndbp,\"Insulin\")\n",
    "#average Insulin for dbp is 100 and ndbp is 70"
   ]
  },
  {
   "cell_type": "markdown",
   "id": "bf0f1eb8",
   "metadata": {},
   "source": [
    "## <span style='color:#2916F5'>Diabetes Detection</span>"
   ]
  },
  {
   "cell_type": "markdown",
   "id": "fecb2ecb",
   "metadata": {},
   "source": [
    "### <span style='color:#2916F5'>Feature Selection</span>"
   ]
  },
  {
   "cell_type": "code",
   "execution_count": null,
   "id": "e6bdd517",
   "metadata": {},
   "outputs": [],
   "source": [
    "diab1=diab.copy()\n",
    "diab1['Outcome']=diab1['Outcome'].replace(diab1['Outcome'].unique(),[i+1 for i in range(len(diab1['Outcome'].unique()))])\n",
    "crdiab=diab1.corr()\n",
    "plt.figure(figsize=(10,6))\n",
    "plt.title(\"Correlation Heatmap of Features\", fontsize=22,color=\"#F6BE00\")\n",
    "sns.heatmap(crdiab,annot=True ,cmap='YlOrRd',fmt='.3f',linewidths=1)\n",
    "plt.show()"
   ]
  },
  {
   "cell_type": "code",
   "execution_count": null,
   "id": "7a200ff5",
   "metadata": {},
   "outputs": [],
   "source": [
    "selected=crdiab['Outcome'].sort_values()[:-3].index.tolist()\n",
    "print(\"Selected Features:\\n\",*selected, sep=\"\\n\")"
   ]
  },
  {
   "cell_type": "markdown",
   "id": "c4bac820",
   "metadata": {},
   "source": [
    "### <span style='color:#2916F5'>Initiating Predictors and Target Feature and Split the data</span>"
   ]
  },
  {
   "cell_type": "code",
   "execution_count": null,
   "id": "adeba63e",
   "metadata": {},
   "outputs": [],
   "source": [
    "X=diab[selected]\n",
    "y=diab['Outcome']\n",
    "\n",
    "x_train,x_test,y_train,y_test=train_test_split(X,y, train_size=0.8, random_state=10)\n",
    "print(\"===========================================================\")\n",
    "print(\"==================== Data Splitting =======================\")\n",
    "print(\"\\tSplit Ratio (Train : Test): {}% : {}%\".format(round((len(x_train)/len(X))*100),round((len(x_test)/len(X))*100)))\n",
    "print(\"===========================================================\")\n",
    "print(\"\\t            Train Set: {}\".format(round(len(X)*(0.8))))\n",
    "print(\"\\t            Test Set: {}\".format(round(len(X)*(1-0.8))))\n",
    "print(\"===========================================================\")"
   ]
  },
  {
   "cell_type": "markdown",
   "id": "d18617af",
   "metadata": {},
   "source": [
    "### <span style='color:#2916F5'>Diabetes Detection using ML</span>"
   ]
  },
  {
   "cell_type": "code",
   "execution_count": null,
   "id": "ea9a540b",
   "metadata": {},
   "outputs": [],
   "source": [
    "clf_diab=[\n",
    "    MLPClassifier(hidden_layer_sizes=(80,),activation='relu',solver=\"sgd\",learning_rate=\"adaptive\",learning_rate_init=0.0001),\n",
    "    LogisticRegression(penalty=\"elasticnet\",solver=\"saga\",tol=0.0004, C=0.6,l1_ratio=0.8),\n",
    "    AdaBoostClassifier(n_estimators=100,learning_rate=0.9),\n",
    "    DecisionTreeClassifier(criterion='gini',max_features='sqrt',splitter='best',min_samples_split=4,max_depth=12),\n",
    "    make_pipeline(StandardScaler(), LinearSVC(random_state=0, tol=0.001)),\n",
    "]"
   ]
  },
  {
   "cell_type": "code",
   "execution_count": null,
   "id": "6494e1e7",
   "metadata": {},
   "outputs": [],
   "source": [
    "clf_diab_names=[\n",
    "    \"MLP Classifier\",\n",
    "    \"Logistic Regression\",\n",
    "    \"Adaptive Boosting Classifier\",\n",
    "    \"Decision Tree Classifier\",\n",
    "    \"Support Vector Machine\"\n",
    "]"
   ]
  },
  {
   "cell_type": "code",
   "execution_count": null,
   "id": "199d4230",
   "metadata": {
    "scrolled": false
   },
   "outputs": [],
   "source": [
    "diabperf=[[],[],[],[]]\n",
    "backupscvores1=[]\n",
    "print(\"_____________________________________________________________________________\")\n",
    "for i in range(len(clf_diab)):\n",
    "    print(\"                            {} \".format(clf_diab_names[i]))\n",
    "    print(\"_____________________________________________________________________________\")\n",
    "    cvscore=[[],[],[],[],[],[]]\n",
    "    for ts in range(10):\n",
    "        clf_diab[i].fit(x_train,y_train)\n",
    "        y_pred=clf_diab[i].predict(x_test)\n",
    "        cvscore[0].append(round(accuracy_score(y_test,y_pred)*100,2))\n",
    "        cvscore[1].append(round(precision_score(y_test, y_pred, average='weighted'),2)*100)\n",
    "        cvscore[2].append(round(recall_score(y_test, y_pred, average='weighted'),2)*100)\n",
    "        cvscore[3].append(round(f1_score(y_test, y_pred, average='weighted'),2)*100)\n",
    "        cm=pd.crosstab(y_test, y_pred, rownames=['True'], colnames=['Predicted'], margins=True)\n",
    "        cvscore[4].append(cm.iloc[:2,:2])\n",
    "        cvscore[5].append(classification_report(y_test, y_pred))\n",
    "    backupscvores1.append(cvscore[0])\n",
    "    mxaccidx=cvscore[0].index(max(cvscore[0]))\n",
    "    diabperf[0].append(cvscore[0][mxaccidx])\n",
    "    diabperf[1].append(cvscore[1][mxaccidx])\n",
    "    diabperf[2].append(cvscore[2][mxaccidx])\n",
    "    diabperf[3].append(cvscore[3][mxaccidx])\n",
    "    print(\"\\nAccuracy: {}%\\n\".format(cvscore[0][mxaccidx]))\n",
    "    print(\"\\nClassification Report for {} \\n\\n{}\".format(clf_diab_names[i],cvscore[5][mxaccidx]))\n",
    "    print(\"\\nConfusion Matrix for {} \\n\\n{}\\n\".format(clf_diab_names[i],cvscore[4][mxaccidx]))\n",
    "    print(\"_____________________________________________________________________________\")"
   ]
  },
  {
   "cell_type": "markdown",
   "id": "2854fe20",
   "metadata": {},
   "source": [
    "### <span style='color:#2916F5'>Performance Comparison for Normal Data</span>"
   ]
  },
  {
   "cell_type": "code",
   "execution_count": null,
   "id": "d2cf336c",
   "metadata": {
    "scrolled": false
   },
   "outputs": [],
   "source": [
    "diab_df=pd.DataFrame({\n",
    "    \"Classifiers\":clf_diab_names,\n",
    "    \"Accuracy\":diabperf[0],\n",
    "    \"Precision\":diabperf[1],\n",
    "    \"Recall\":diabperf[2],\n",
    "    \"F1-Score\":diabperf[3]\n",
    "})\n",
    "\n",
    "for i in diab_df.columns.tolist()[1:]:\n",
    "    diab_df=diab_df.sort_values(by=i,ascending=False)\n",
    "    fig = px.bar(diab_df, y=i, x=\"Classifiers\",text=i,color=\"Classifiers\",\n",
    "                 title=\"Comparison of {}\".format(i),height=600,width=1000)\n",
    "    fig.update_layout(\n",
    "        font=dict(\n",
    "            family=\"Times New Roman, Bold\",\n",
    "            size=20,\n",
    "            color=\"black\"\n",
    "        )\n",
    "    )\n",
    "    fig.show()\n",
    "diab_df.to_csv(\"diab_df.csv\")"
   ]
  },
  {
   "cell_type": "markdown",
   "id": "3aa1ccfe",
   "metadata": {},
   "source": [
    "## <span style='color:#2916F5'>Experimenting Using Resampled Data</span>"
   ]
  },
  {
   "cell_type": "code",
   "execution_count": null,
   "id": "fde79d5d",
   "metadata": {},
   "outputs": [],
   "source": [
    "diabres=resample(diab, replace = True, n_samples = len(diab)*10, random_state = 10)\n",
    "print(diabres.shape)"
   ]
  },
  {
   "cell_type": "code",
   "execution_count": null,
   "id": "c2fee629",
   "metadata": {},
   "outputs": [],
   "source": [
    "X1=diabres[selected]\n",
    "y1=diabres['Outcome']\n",
    "\n",
    "x_train1,x_test1,y_train1,y_test1=train_test_split(X1,y1, train_size=0.8, random_state=10)\n",
    "print(\"===========================================================\")\n",
    "print(\"==================== Data Splitting =======================\")\n",
    "print(\"\\tSplit Ratio (Train : Test): {}% : {}%\".format(round((len(x_train1)/len(X1))*100),round((len(x_test1)/len(X1))*100)))\n",
    "print(\"===========================================================\")\n",
    "print(\"\\t            Train Set: {}\".format(round(len(X1)*(0.8))))\n",
    "print(\"\\t            Test Set: {}\".format(round(len(X1)*(1-0.8))))\n",
    "print(\"===========================================================\")"
   ]
  },
  {
   "cell_type": "code",
   "execution_count": null,
   "id": "106f2365",
   "metadata": {
    "scrolled": false
   },
   "outputs": [],
   "source": [
    "diabperf1=[[],[],[],[]]\n",
    "backupscvores2=[]\n",
    "print(\"_____________________________________________________________________________\")\n",
    "for i in range(len(clf_diab)):\n",
    "    print(\"                            {} \".format(clf_diab_names[i]))\n",
    "    print(\"_____________________________________________________________________________\")\n",
    "    cvscore1=[[],[],[],[],[],[]]\n",
    "    for ts in range(10):\n",
    "        clf_diab[i].fit(x_train1,y_train1)\n",
    "        y_pred1=clf_diab[i].predict(x_test1)\n",
    "        cvscore1[0].append(round(accuracy_score(y_test1,y_pred1)*100,2))\n",
    "        cvscore1[1].append(round(precision_score(y_test1, y_pred1, average='weighted'),2)*100)\n",
    "        cvscore1[2].append(round(recall_score(y_test1, y_pred1, average='weighted'),2)*100)\n",
    "        cvscore1[3].append(round(f1_score(y_test1, y_pred1, average='weighted'),2)*100)\n",
    "        cm=pd.crosstab(y_test1, y_pred1, rownames=['True'], colnames=['Predicted'], margins=True)\n",
    "        cvscore1[4].append(cm.iloc[:2,:2])\n",
    "        cvscore1[5].append(classification_report(y_test1, y_pred1))\n",
    "    backupscvores2.append(cvscore1[0])\n",
    "    mxaccidx=cvscore1[0].index(max(cvscore1[0]))\n",
    "    diabperf1[0].append(cvscore1[0][mxaccidx])\n",
    "    diabperf1[1].append(cvscore1[1][mxaccidx])\n",
    "    diabperf1[2].append(cvscore1[2][mxaccidx])\n",
    "    diabperf1[3].append(cvscore1[3][mxaccidx])\n",
    "    print(\"\\nAccuracy: {}%\\n\".format(cvscore1[0][mxaccidx]))\n",
    "    print(\"\\nClassification Report for {} \\n\\n{}\".format(clf_diab_names[i],cvscore1[5][mxaccidx]))\n",
    "    print(\"\\nConfusion Matrix for {} \\n\\n{}\\n\".format(clf_diab_names[i],cvscore1[4][mxaccidx]))\n",
    "    print(\"_____________________________________________________________________________\")"
   ]
  },
  {
   "cell_type": "markdown",
   "id": "f609a7ee",
   "metadata": {},
   "source": [
    "### <span style='color:#2916F5'>Performance Comparison for Resampled Data</span>"
   ]
  },
  {
   "cell_type": "code",
   "execution_count": null,
   "id": "980e7b7b",
   "metadata": {
    "scrolled": false
   },
   "outputs": [],
   "source": [
    "diab_df1=pd.DataFrame({\n",
    "    \"Classifiers\":clf_diab_names,\n",
    "    \"Accuracy\":diabperf1[0],\n",
    "    \"Precision\":diabperf1[1],\n",
    "    \"Recall\":diabperf1[2],\n",
    "    \"F1-Score\":diabperf1[3]\n",
    "})\n",
    "\n",
    "for i in diab_df1.columns.tolist()[1:]:\n",
    "    diab_df1=diab_df1.sort_values(by=i,ascending=False)\n",
    "    fig = px.bar(diab_df1, y=i, x=\"Classifiers\",text=i,color=\"Classifiers\",\n",
    "                 title=\"Comparison of {} (Resampled)\".format(i),height=600,width=1000)\n",
    "    fig.update_layout(\n",
    "        font=dict(\n",
    "            family=\"Times New Roman, Bold\",\n",
    "            size=20,\n",
    "            color=\"black\"\n",
    "        )\n",
    "    )\n",
    "    fig.show()\n",
    "diab_df1.to_csv(\"diab_df1.csv\")"
   ]
  },
  {
   "cell_type": "code",
   "execution_count": null,
   "id": "b604251e",
   "metadata": {},
   "outputs": [],
   "source": [
    "diab_df1"
   ]
  },
  {
   "cell_type": "code",
   "execution_count": null,
   "id": "4e1b05f4",
   "metadata": {},
   "outputs": [],
   "source": [
    "auths=[\"Aofa et al. (2018)\",\"Gupta et al. (2021)\",\n",
    "       \"Abdulhadi & Al-Mousa (2021)\",\"Ahmed et al. (2022)\",\n",
    "       \"Akula et al. (2019)\",\"Rubaiat et al. (2018)\",\"Proposed Model\"]\n",
    "acc=[88.75,93.23,82,94.87,85,85.15,diab_df1['Accuracy'].tolist()[0]]\n",
    "algn=[\"Standart Backpropagation Neural Network \",\"Support Vector Machine\",\"Random Forest Classifier \",\n",
    "      \"Artificial Neural Network \",\"Ensemble classifier\",\"Artificial Neural Network\",diab_df1['Classifiers'].tolist()[0]]\n",
    "athdf=pd.DataFrame({\"Authors\":auths,\"Accuracy\":acc,\"Algorithm\":algn})\n",
    "athdf=athdf.sort_values(by=\"Accuracy\",ascending=False)\n",
    "fig = px.bar(athdf, x=\"Authors\", y=\"Accuracy\",text=\"Accuracy\",color=\"Algorithm\",\n",
    "                 title=\"Comparison of Research and Approaches\".format(i),height=550,width=1000)\n",
    "fig.update_layout(\n",
    "    font=dict(\n",
    "        family=\"Times New Roman, Bold\",\n",
    "        size=20,\n",
    "        color=\"black\"\n",
    "    )\n",
    ")\n",
    "fig.show()"
   ]
  },
  {
   "cell_type": "markdown",
   "id": "ca36f3b8",
   "metadata": {},
   "source": [
    "x_train.head()"
   ]
  },
  {
   "cell_type": "code",
   "execution_count": null,
   "id": "c561912c",
   "metadata": {},
   "outputs": [],
   "source": [
    "x_test.head()"
   ]
  },
  {
   "cell_type": "code",
   "execution_count": null,
   "id": "4b96138d",
   "metadata": {},
   "outputs": [],
   "source": [
    "yagp=y_test[:5]\n",
    "yagp"
   ]
  },
  {
   "cell_type": "code",
   "execution_count": null,
   "id": "8a609588",
   "metadata": {},
   "outputs": [],
   "source": [
    "clf_diab"
   ]
  },
  {
   "cell_type": "code",
   "execution_count": null,
   "id": "71570c15",
   "metadata": {},
   "outputs": [],
   "source": [
    "a= clf_diab[3]"
   ]
  },
  {
   "cell_type": "code",
   "execution_count": null,
   "id": "035cd730",
   "metadata": {},
   "outputs": [],
   "source": [
    "a"
   ]
  },
  {
   "cell_type": "code",
   "execution_count": null,
   "id": "1b586695",
   "metadata": {},
   "outputs": [],
   "source": [
    "yag=a.predict(x_test[:5])\n",
    "yag"
   ]
  },
  {
   "cell_type": "code",
   "execution_count": null,
   "id": "fe91d434",
   "metadata": {},
   "outputs": [],
   "source": [
    "yagp=y_test[:5]\n",
    "yagp"
   ]
  },
  {
   "cell_type": "code",
   "execution_count": null,
   "id": "1e8e8626",
   "metadata": {},
   "outputs": [],
   "source": [
    "venky=round(accuracy_score(yag,yagp)*100,2)\n",
    "venky"
   ]
  },
  {
   "cell_type": "code",
   "execution_count": null,
   "id": "5c9cc27d",
   "metadata": {},
   "outputs": [],
   "source": []
  }
 ],
 "metadata": {
  "kernelspec": {
   "display_name": "Python 3 (ipykernel)",
   "language": "python",
   "name": "python3"
  },
  "language_info": {
   "codemirror_mode": {
    "name": "ipython",
    "version": 3
   },
   "file_extension": ".py",
   "mimetype": "text/x-python",
   "name": "python",
   "nbconvert_exporter": "python",
   "pygments_lexer": "ipython3",
   "version": "3.10.9"
  }
 },
 "nbformat": 4,
 "nbformat_minor": 5
}
